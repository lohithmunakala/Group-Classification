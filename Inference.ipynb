{
 "cells": [
  {
   "cell_type": "code",
   "execution_count": 20,
   "metadata": {},
   "outputs": [],
   "source": [
    "import tensorflow as tf\n",
    "import pandas as pd\n",
    "import numpy as np\n",
    "from tensorflow.keras.models import load_model\n",
    "from tqdm import tqdm\n",
    "import cv2\n",
    "from sklearn import preprocessing\n",
    "lb = preprocessing.LabelBinarizer()"
   ]
  },
  {
   "cell_type": "code",
   "execution_count": 63,
   "metadata": {},
   "outputs": [],
   "source": [
    "model = load_model(\"output/ResNet152 -649(F)/_resnet152-64.h5\")"
   ]
  },
  {
   "cell_type": "code",
   "execution_count": 18,
   "metadata": {},
   "outputs": [
    {
     "name": "stderr",
     "output_type": "stream",
     "text": [
      "100%|██████████| 314/314 [00:01<00:00, 293.89it/s]\n"
     ]
    }
   ],
   "source": [
    "test  = pd.read_csv(\"output/Test.csv\")\n",
    "\n",
    "# print(test.shape)\n",
    "test_img = []\n",
    "# image = cv2.imread(\"/home/lohith/Documents/projects/Group_Classification/Test Data/Img3968.jpg\")\n",
    "\n",
    "for i in tqdm(range(test.shape[0])):\n",
    "    imagePath = \"Test Data/\" + test[\"Filename\"][i] \n",
    "    # print(imagePath)\n",
    "\n",
    "\n",
    "    image = cv2.imread(imagePath)\n",
    "    image = cv2.cvtColor(image, cv2.COLOR_BGR2RGB)\n",
    "    image = cv2.resize(image, (224,224))\n",
    "\n",
    "    test_img.append(image)\n",
    "\n",
    "test = np.array(test_img)"
   ]
  },
  {
   "cell_type": "code",
   "execution_count": 25,
   "metadata": {},
   "outputs": [],
   "source": [
    "prediction = model.predict(test) "
   ]
  },
  {
   "cell_type": "code",
   "execution_count": 57,
   "metadata": {},
   "outputs": [],
   "source": [
    "labels = lb.fit_transform([\"group of adults\", \"group of babaies\", \"group of teenagers\"])"
   ]
  },
  {
   "cell_type": "code",
   "execution_count": 58,
   "metadata": {},
   "outputs": [
    {
     "data": {
      "text/plain": [
       "array([[1, 0, 0],\n",
       "       [0, 1, 0],\n",
       "       [0, 0, 1]])"
      ]
     },
     "execution_count": 58,
     "metadata": {},
     "output_type": "execute_result"
    }
   ],
   "source": [
    "labels"
   ]
  },
  {
   "cell_type": "code",
   "execution_count": 59,
   "metadata": {},
   "outputs": [],
   "source": [
    "final_pred =  lb.inverse_transform(prediction)"
   ]
  },
  {
   "cell_type": "code",
   "execution_count": 60,
   "metadata": {
    "scrolled": true
   },
   "outputs": [
    {
     "data": {
      "text/plain": [
       "array(['group of adults', 'group of teenagers', 'group of adults',\n",
       "       'group of teenagers', 'group of teenagers', 'group of teenagers',\n",
       "       'group of adults', 'group of babaies', 'group of teenagers',\n",
       "       'group of adults', 'group of adults', 'group of teenagers',\n",
       "       'group of adults', 'group of teenagers', 'group of adults',\n",
       "       'group of adults', 'group of teenagers', 'group of teenagers',\n",
       "       'group of adults', 'group of teenagers', 'group of teenagers',\n",
       "       'group of teenagers', 'group of teenagers', 'group of teenagers',\n",
       "       'group of adults', 'group of adults', 'group of teenagers',\n",
       "       'group of teenagers', 'group of adults', 'group of teenagers',\n",
       "       'group of adults', 'group of teenagers', 'group of teenagers',\n",
       "       'group of teenagers', 'group of teenagers', 'group of teenagers',\n",
       "       'group of teenagers', 'group of adults', 'group of teenagers',\n",
       "       'group of adults', 'group of adults', 'group of teenagers',\n",
       "       'group of teenagers', 'group of teenagers', 'group of teenagers',\n",
       "       'group of teenagers', 'group of adults', 'group of teenagers',\n",
       "       'group of adults', 'group of adults', 'group of adults',\n",
       "       'group of adults', 'group of teenagers', 'group of teenagers',\n",
       "       'group of teenagers', 'group of teenagers', 'group of adults',\n",
       "       'group of babaies', 'group of teenagers', 'group of teenagers',\n",
       "       'group of adults', 'group of teenagers', 'group of teenagers',\n",
       "       'group of adults', 'group of adults', 'group of teenagers',\n",
       "       'group of adults', 'group of adults', 'group of teenagers',\n",
       "       'group of teenagers', 'group of teenagers', 'group of adults',\n",
       "       'group of adults', 'group of adults', 'group of teenagers',\n",
       "       'group of adults', 'group of teenagers', 'group of adults',\n",
       "       'group of teenagers', 'group of teenagers', 'group of adults',\n",
       "       'group of adults', 'group of teenagers', 'group of adults',\n",
       "       'group of teenagers', 'group of adults', 'group of teenagers',\n",
       "       'group of teenagers', 'group of adults', 'group of adults',\n",
       "       'group of adults', 'group of teenagers', 'group of teenagers',\n",
       "       'group of adults', 'group of teenagers', 'group of teenagers',\n",
       "       'group of adults', 'group of adults', 'group of teenagers',\n",
       "       'group of babaies', 'group of teenagers', 'group of teenagers',\n",
       "       'group of adults', 'group of teenagers', 'group of adults',\n",
       "       'group of teenagers', 'group of teenagers', 'group of teenagers',\n",
       "       'group of adults', 'group of teenagers', 'group of teenagers',\n",
       "       'group of teenagers', 'group of babaies', 'group of adults',\n",
       "       'group of adults', 'group of babaies', 'group of teenagers',\n",
       "       'group of teenagers', 'group of teenagers', 'group of teenagers',\n",
       "       'group of teenagers', 'group of adults', 'group of adults',\n",
       "       'group of babaies', 'group of adults', 'group of teenagers',\n",
       "       'group of adults', 'group of teenagers', 'group of adults',\n",
       "       'group of adults', 'group of teenagers', 'group of adults',\n",
       "       'group of adults', 'group of teenagers', 'group of babaies',\n",
       "       'group of adults', 'group of teenagers', 'group of adults',\n",
       "       'group of teenagers', 'group of teenagers', 'group of teenagers',\n",
       "       'group of babaies', 'group of teenagers', 'group of teenagers',\n",
       "       'group of teenagers', 'group of adults', 'group of teenagers',\n",
       "       'group of teenagers', 'group of adults', 'group of teenagers',\n",
       "       'group of teenagers', 'group of adults', 'group of adults',\n",
       "       'group of teenagers', 'group of adults', 'group of teenagers',\n",
       "       'group of adults', 'group of babaies', 'group of adults',\n",
       "       'group of teenagers', 'group of teenagers', 'group of adults',\n",
       "       'group of babaies', 'group of teenagers', 'group of teenagers',\n",
       "       'group of teenagers', 'group of adults', 'group of adults',\n",
       "       'group of teenagers', 'group of teenagers', 'group of teenagers',\n",
       "       'group of teenagers', 'group of teenagers', 'group of adults',\n",
       "       'group of adults', 'group of adults', 'group of teenagers',\n",
       "       'group of teenagers', 'group of teenagers', 'group of teenagers',\n",
       "       'group of adults', 'group of adults', 'group of teenagers',\n",
       "       'group of adults', 'group of adults', 'group of adults',\n",
       "       'group of adults', 'group of babaies', 'group of teenagers',\n",
       "       'group of teenagers', 'group of teenagers', 'group of adults',\n",
       "       'group of babaies', 'group of babaies', 'group of adults',\n",
       "       'group of teenagers', 'group of adults', 'group of teenagers',\n",
       "       'group of adults', 'group of teenagers', 'group of teenagers',\n",
       "       'group of teenagers', 'group of teenagers', 'group of teenagers',\n",
       "       'group of babaies', 'group of teenagers', 'group of teenagers',\n",
       "       'group of adults', 'group of teenagers', 'group of teenagers',\n",
       "       'group of teenagers', 'group of adults', 'group of teenagers',\n",
       "       'group of teenagers', 'group of adults', 'group of teenagers',\n",
       "       'group of adults', 'group of adults', 'group of teenagers',\n",
       "       'group of teenagers', 'group of adults', 'group of teenagers',\n",
       "       'group of adults', 'group of teenagers', 'group of adults',\n",
       "       'group of adults', 'group of teenagers', 'group of teenagers',\n",
       "       'group of teenagers', 'group of adults', 'group of teenagers',\n",
       "       'group of teenagers', 'group of adults', 'group of adults',\n",
       "       'group of teenagers', 'group of adults', 'group of adults',\n",
       "       'group of teenagers', 'group of adults', 'group of teenagers',\n",
       "       'group of teenagers', 'group of teenagers', 'group of adults',\n",
       "       'group of teenagers', 'group of teenagers', 'group of teenagers',\n",
       "       'group of adults', 'group of teenagers', 'group of teenagers',\n",
       "       'group of babaies', 'group of adults', 'group of babaies',\n",
       "       'group of teenagers', 'group of babaies', 'group of teenagers',\n",
       "       'group of teenagers', 'group of teenagers', 'group of adults',\n",
       "       'group of adults', 'group of teenagers', 'group of adults',\n",
       "       'group of adults', 'group of teenagers', 'group of babaies',\n",
       "       'group of adults', 'group of adults', 'group of teenagers',\n",
       "       'group of adults', 'group of adults', 'group of teenagers',\n",
       "       'group of adults', 'group of adults', 'group of adults',\n",
       "       'group of teenagers', 'group of adults', 'group of adults',\n",
       "       'group of teenagers', 'group of teenagers', 'group of teenagers',\n",
       "       'group of adults', 'group of adults', 'group of adults',\n",
       "       'group of adults', 'group of teenagers', 'group of teenagers',\n",
       "       'group of adults', 'group of adults', 'group of teenagers',\n",
       "       'group of adults', 'group of adults', 'group of teenagers',\n",
       "       'group of adults', 'group of teenagers', 'group of teenagers',\n",
       "       'group of teenagers', 'group of teenagers', 'group of teenagers',\n",
       "       'group of teenagers', 'group of teenagers', 'group of adults',\n",
       "       'group of teenagers', 'group of adults', 'group of adults',\n",
       "       'group of teenagers', 'group of adults', 'group of teenagers',\n",
       "       'group of teenagers', 'group of adults', 'group of adults',\n",
       "       'group of adults', 'group of adults', 'group of teenagers',\n",
       "       'group of teenagers', 'group of babaies'], dtype='<U18')"
      ]
     },
     "execution_count": 60,
     "metadata": {},
     "output_type": "execute_result"
    }
   ],
   "source": [
    "final_pred"
   ]
  },
  {
   "cell_type": "code",
   "execution_count": 62,
   "metadata": {},
   "outputs": [],
   "source": [
    "test  = pd.read_csv(\"output/Test.csv\")\n",
    "test [\"Category\"] = final_pred\n",
    "test.Category = test.Category.map({\"group of adults\": \"Adults\", \"group of babaies\": \"Toddler\", \"group of teenagers\":\"Teenagers\"})\n",
    "test.to_csv(\"output/Submission.csv\", index= False)"
   ]
  }
 ],
 "metadata": {
  "kernelspec": {
   "display_name": "Python 3",
   "language": "python",
   "name": "python3"
  },
  "language_info": {
   "codemirror_mode": {
    "name": "ipython",
    "version": 3
   },
   "file_extension": ".py",
   "mimetype": "text/x-python",
   "name": "python",
   "nbconvert_exporter": "python",
   "pygments_lexer": "ipython3",
   "version": "3.8.2"
  }
 },
 "nbformat": 4,
 "nbformat_minor": 4
}
